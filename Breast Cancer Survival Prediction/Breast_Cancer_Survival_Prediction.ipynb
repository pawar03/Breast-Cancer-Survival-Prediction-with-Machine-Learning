{
 "cells": [
  {
   "cell_type": "code",
   "execution_count": null,
   "id": "d530d890",
   "metadata": {},
   "outputs": [],
   "source": [
    "import pandas as pd\n",
    "import numpy as np\n",
    "import plotly.express as px\n",
    "from sklearn.model_selection import train_test_split\n",
    "from sklearn.svm import SVC"
   ]
  },
  {
   "cell_type": "code",
   "execution_count": null,
   "id": "9cc4d09b",
   "metadata": {},
   "outputs": [],
   "source": [
    "data = pd.read_csv(\"BRCA.csv\")\n",
    "print(data.head())"
   ]
  },
  {
   "cell_type": "code",
   "execution_count": null,
   "id": "a443b55d",
   "metadata": {},
   "outputs": [],
   "source": [
    "print(data.isnull().sum())"
   ]
  },
  {
   "cell_type": "code",
   "execution_count": null,
   "id": "1d241e22",
   "metadata": {},
   "outputs": [],
   "source": [
    "data = data.dropna()"
   ]
  },
  {
   "cell_type": "code",
   "execution_count": null,
   "id": "d4457cf0",
   "metadata": {},
   "outputs": [],
   "source": [
    "data.info()"
   ]
  },
  {
   "cell_type": "code",
   "execution_count": null,
   "id": "cdb20e3b",
   "metadata": {},
   "outputs": [],
   "source": [
    "print(data.Gender.value_counts())"
   ]
  },
  {
   "cell_type": "code",
   "execution_count": null,
   "id": "c5aeada9",
   "metadata": {},
   "outputs": [],
   "source": [
    "# Tumour Stage\n",
    "stage = data[\"Tumour_Stage\"].value_counts()\n",
    "transactions = stage.index\n",
    "quantity = stage.values\n",
    "\n",
    "figure = px.pie(data, \n",
    "             values=quantity, \n",
    "             names=transactions,hole = 0.5, \n",
    "             title=\"Tumour Stages of Patients\")\n",
    "figure.show()"
   ]
  },
  {
   "cell_type": "code",
   "execution_count": null,
   "id": "34baebcc",
   "metadata": {},
   "outputs": [],
   "source": [
    "# Histology\n",
    "histology = data[\"Histology\"].value_counts()\n",
    "transactions = histology.index\n",
    "quantity = histology.values\n",
    "figure = px.pie(data, \n",
    "             values=quantity, \n",
    "             names=transactions,hole = 0.5, \n",
    "             title=\"Histology of Patients\")\n",
    "figure.show()"
   ]
  },
  {
   "cell_type": "code",
   "execution_count": null,
   "id": "d87effd9",
   "metadata": {},
   "outputs": [],
   "source": [
    "# ER status\n",
    "print(data[\"ER status\"].value_counts())\n",
    "# PR status\n",
    "print(data[\"PR status\"].value_counts())\n",
    "# HER2 status\n",
    "print(data[\"HER2 status\"].value_counts())"
   ]
  },
  {
   "cell_type": "code",
   "execution_count": null,
   "id": "797d54ca",
   "metadata": {},
   "outputs": [],
   "source": [
    "# Surgery_type\n",
    "surgery = data[\"Surgery_type\"].value_counts()\n",
    "transactions = surgery.index\n",
    "quantity = surgery.values\n",
    "figure = px.pie(data, \n",
    "             values=quantity, \n",
    "             names=transactions,hole = 0.5, \n",
    "             title=\"Type of Surgery of Patients\")\n",
    "figure.show()"
   ]
  },
  {
   "cell_type": "code",
   "execution_count": null,
   "id": "a176ca55",
   "metadata": {},
   "outputs": [],
   "source": [
    "data[\"Tumour_Stage\"] = data[\"Tumour_Stage\"].map({\"I\": 1, \"II\": 2, \"III\": 3})\n",
    "data[\"Histology\"] = data[\"Histology\"].map({\"Infiltrating Ductal Carcinoma\": 1, \n",
    "                                           \"Infiltrating Lobular Carcinoma\": 2, \"Mucinous Carcinoma\": 3})\n",
    "data[\"ER status\"] = data[\"ER status\"].map({\"Positive\": 1})\n",
    "data[\"PR status\"] = data[\"PR status\"].map({\"Positive\": 1})\n",
    "data[\"HER2 status\"] = data[\"HER2 status\"].map({\"Positive\": 1, \"Negative\": 2})\n",
    "data[\"Gender\"] = data[\"Gender\"].map({\"MALE\": 0, \"FEMALE\": 1})\n",
    "data[\"Surgery_type\"] = data[\"Surgery_type\"].map({\"Other\": 1, \"Modified Radical Mastectomy\": 2, \n",
    "                                                 \"Lumpectomy\": 3, \"Simple Mastectomy\": 4})\n",
    "print(data.head())"
   ]
  },
  {
   "cell_type": "code",
   "execution_count": null,
   "id": "8209fbcf",
   "metadata": {},
   "outputs": [],
   "source": [
    "# Splitting data\n",
    "x = np.array(data[['Age', 'Gender', 'Protein1', 'Protein2', 'Protein3','Protein4', \n",
    "                   'Tumour_Stage', 'Histology', 'ER status', 'PR status', \n",
    "                   'HER2 status', 'Surgery_type']])\n",
    "y = np.array(data[['Patient_Status']])\n",
    "xtrain, xtest, ytrain, ytest = train_test_split(x, y, test_size=0.10, random_state=42)"
   ]
  },
  {
   "cell_type": "code",
   "execution_count": null,
   "id": "fa172b0a",
   "metadata": {},
   "outputs": [],
   "source": [
    "model = SVC()\n",
    "model.fit(xtrain, ytrain)"
   ]
  },
  {
   "cell_type": "code",
   "execution_count": null,
   "id": "1b183be4",
   "metadata": {},
   "outputs": [],
   "source": [
    "# Prediction\n",
    "# features = [['Age', 'Gender', 'Protein1', 'Protein2', 'Protein3','Protein4', 'Tumour_Stage', 'Histology', 'ER status', 'PR status', 'HER2 status', 'Surgery_type']]\n",
    "features = np.array([[36.0, 1, 0.080353, 0.42638, 0.54715, 0.273680, 3, 1, 1, 1, 2, 2,]])\n",
    "print(model.predict(features))"
   ]
  },
  {
   "cell_type": "code",
   "execution_count": null,
   "id": "4a574c39",
   "metadata": {},
   "outputs": [],
   "source": []
  }
 ],
 "metadata": {
  "kernelspec": {
   "display_name": "Python 3 (ipykernel)",
   "language": "python",
   "name": "python3"
  },
  "language_info": {
   "codemirror_mode": {
    "name": "ipython",
    "version": 3
   },
   "file_extension": ".py",
   "mimetype": "text/x-python",
   "name": "python",
   "nbconvert_exporter": "python",
   "pygments_lexer": "ipython3",
   "version": "3.9.12"
  }
 },
 "nbformat": 4,
 "nbformat_minor": 5
}
